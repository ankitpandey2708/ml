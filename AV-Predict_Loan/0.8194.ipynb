{
 "cells": [
  {
   "cell_type": "code",
   "execution_count": null,
   "metadata": {},
   "outputs": [],
   "source": [
    "import numpy as np\n",
    "import pandas as pd\n",
    "import xgboost as xgb\n",
    "\n",
    "from sklearn.model_selection import train_test_split\n",
    "from sklearn.preprocessing import LabelEncoder\n",
    "from sklearn.metrics import accuracy_score\n",
    "from collections import Counter\n",
    "\n",
    "%matplotlib notebook\n",
    "import matplotlib.pyplot as plt"
   ]
  },
  {
   "cell_type": "code",
   "execution_count": null,
   "metadata": {
    "collapsed": true
   },
   "outputs": [],
   "source": [
    "train = pd.read_csv('Train.csv')\n",
    "test = pd.read_csv('Test.csv')\n",
    "\n",
    "X = train.drop([\"Loan_ID\",\"Loan_Status\"],1)\n",
    "y = train['Loan_Status']\n",
    "\n",
    "Loan_ID = test[\"Loan_ID\"].copy()\n",
    "Z = test.drop([\"Loan_ID\"],1)\n",
    "\n",
    "y.replace(\"Y\",1,inplace=True)\n",
    "y.replace(\"N\",0,inplace=True)"
   ]
  },
  {
   "cell_type": "code",
   "execution_count": null,
   "metadata": {
    "collapsed": true
   },
   "outputs": [],
   "source": [
    "def prepare(X):\n",
    "    \n",
    "    for i in X.columns:\n",
    "        top_v = Counter(X[i].values).most_common(1)[0][0]\n",
    "        X[i].fillna(top_v, inplace=True)\n",
    "     \n",
    "    X = X.join((X.ApplicantIncome / X.LoanAmount).to_frame(name=\"k\"))\n",
    "    #X.k = X.ApplicantIncome / X.LoanAmount\n",
    "    encoder = LabelEncoder()\n",
    "    cat_columns = [c for c in X.columns if X[c].dtype.name == 'object']\n",
    "    for ix, item in enumerate(cat_columns):\n",
    "        X[item] = encoder.fit_transform(X[item])\n",
    "    \n",
    "    return X"
   ]
  },
  {
   "cell_type": "code",
   "execution_count": null,
   "metadata": {
    "collapsed": true
   },
   "outputs": [],
   "source": [
    "X = prepare(X)\n",
    "Z = prepare(Z)"
   ]
  },
  {
   "cell_type": "code",
   "execution_count": null,
   "metadata": {},
   "outputs": [],
   "source": [
    "X_train, X_test, y_train, y_test = train_test_split(X, y, test_size = 0.3, random_state = 5)\n",
    "clf = xgb.XGBClassifier(n_estimators=90, max_depth=4)\n",
    "clf.fit(X_train,y_train)\n",
    "predictions = clf.predict(X_test)\n",
    "\n",
    "accuracy_score(y_test, predictions)"
   ]
  },
  {
   "cell_type": "code",
   "execution_count": null,
   "metadata": {},
   "outputs": [],
   "source": [
    "plt.figure(figsize=(10,8))\n",
    "plt.scatter(y, X.k, alpha = 0.5, s = 50)\n",
    "plt.ylabel('k = ApplicantIncome / LoanAmount ')\n",
    "plt.xlabel('Loan Status')\n",
    "plt.show()"
   ]
  },
  {
   "cell_type": "code",
   "execution_count": null,
   "metadata": {
    "collapsed": true
   },
   "outputs": [],
   "source": [
    "pred = clf.predict(Z).astype(str)\n",
    "pred [pred == \"1\"] = \"Y\"\n",
    "pred [pred == \"0\"] = \"N\"\n",
    "\n",
    "pred[np.where(Z.k > 90),] = \"Y\""
   ]
  },
  {
   "cell_type": "code",
   "execution_count": null,
   "metadata": {
    "collapsed": true
   },
   "outputs": [],
   "source": [
    "submission = pd.DataFrame({\"Loan_ID\":Loan_ID, \"Loan_Status\": pred})\n",
    "submission.to_csv(\"output.csv\", index=False)"
   ]
  }
 ],
 "metadata": {
  "kernelspec": {
   "display_name": "Python 3",
   "language": "python",
   "name": "python3"
  },
  "language_info": {
   "codemirror_mode": {
    "name": "ipython",
    "version": 3
   },
   "file_extension": ".py",
   "mimetype": "text/x-python",
   "name": "python",
   "nbconvert_exporter": "python",
   "pygments_lexer": "ipython3",
   "version": "3.6.0"
  }
 },
 "nbformat": 4,
 "nbformat_minor": 1
}
