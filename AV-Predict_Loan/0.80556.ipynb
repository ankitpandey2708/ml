{
 "cells": [
  {
   "cell_type": "code",
   "execution_count": 65,
   "metadata": {
    "collapsed": true
   },
   "outputs": [],
   "source": [
    "#.80556\n",
    "import pandas as pd\n",
    "import numpy as np\n",
    "\n",
    "from sklearn.model_selection import GridSearchCV\n",
    "from sklearn import model_selection as cval\n",
    "from sklearn.preprocessing import LabelEncoder,StandardScaler\n",
    "from sklearn.metrics import accuracy_score\n",
    "\n",
    "import xgboost as xgb\n",
    "from sklearn.linear_model import LogisticRegression\n",
    "from sklearn.neighbors import KNeighborsClassifier\n",
    "from sklearn.ensemble import RandomForestClassifier"
   ]
  },
  {
   "cell_type": "code",
   "execution_count": 66,
   "metadata": {
    "collapsed": true
   },
   "outputs": [],
   "source": [
    "#Load Data\n",
    "X_train=pd.read_csv('Train.csv')\n",
    "X_test=pd.read_csv('Test.csv')"
   ]
  },
  {
   "cell_type": "code",
   "execution_count": 67,
   "metadata": {},
   "outputs": [
    {
     "name": "stdout",
     "output_type": "stream",
     "text": [
      "<class 'pandas.core.frame.DataFrame'>\n",
      "RangeIndex: 614 entries, 0 to 613\n",
      "Data columns (total 13 columns):\n",
      "Loan_ID              614 non-null object\n",
      "Gender               601 non-null object\n",
      "Married              611 non-null object\n",
      "Dependents           599 non-null object\n",
      "Education            614 non-null object\n",
      "Self_Employed        582 non-null object\n",
      "ApplicantIncome      614 non-null int64\n",
      "CoapplicantIncome    614 non-null float64\n",
      "LoanAmount           592 non-null float64\n",
      "Loan_Amount_Term     600 non-null float64\n",
      "Credit_History       564 non-null float64\n",
      "Property_Area        614 non-null object\n",
      "Loan_Status          614 non-null object\n",
      "dtypes: float64(4), int64(1), object(8)\n",
      "memory usage: 62.4+ KB\n"
     ]
    }
   ],
   "source": [
    "#print missing values in all columns\n",
    "X_train.info()"
   ]
  },
  {
   "cell_type": "code",
   "execution_count": 68,
   "metadata": {},
   "outputs": [
    {
     "name": "stdout",
     "output_type": "stream",
     "text": [
      "<class 'pandas.core.frame.DataFrame'>\n",
      "RangeIndex: 367 entries, 0 to 366\n",
      "Data columns (total 12 columns):\n",
      "Loan_ID              367 non-null object\n",
      "Gender               356 non-null object\n",
      "Married              367 non-null object\n",
      "Dependents           357 non-null object\n",
      "Education            367 non-null object\n",
      "Self_Employed        344 non-null object\n",
      "ApplicantIncome      367 non-null int64\n",
      "CoapplicantIncome    367 non-null int64\n",
      "LoanAmount           362 non-null float64\n",
      "Loan_Amount_Term     361 non-null float64\n",
      "Credit_History       338 non-null float64\n",
      "Property_Area        367 non-null object\n",
      "dtypes: float64(3), int64(2), object(7)\n",
      "memory usage: 34.5+ KB\n"
     ]
    }
   ],
   "source": [
    "X_test.info()"
   ]
  },
  {
   "cell_type": "code",
   "execution_count": 69,
   "metadata": {
    "collapsed": true
   },
   "outputs": [],
   "source": [
    "#Target Variable #Loan_Status\n",
    "#encode labels into binary\n",
    "X_train.Loan_Status=X_train.Loan_Status.map({'Y':1,'N':0})"
   ]
  },
  {
   "cell_type": "code",
   "execution_count": 70,
   "metadata": {
    "collapsed": true
   },
   "outputs": [],
   "source": [
    "#Gender"
   ]
  },
  {
   "cell_type": "code",
   "execution_count": 71,
   "metadata": {
    "collapsed": true
   },
   "outputs": [],
   "source": [
    "#impute gender by mode to fill NaNs\n",
    "X_train['Gender']=X_train['Gender'].fillna(X_train['Gender'].value_counts().index[0])\n",
    "X_test['Gender']=X_test['Gender'].fillna(X_test['Gender'].value_counts().index[0])\n",
    "\n",
    "#Recheck for NaNs as above"
   ]
  },
  {
   "cell_type": "code",
   "execution_count": 72,
   "metadata": {
    "collapsed": true
   },
   "outputs": [],
   "source": [
    "#Married"
   ]
  },
  {
   "cell_type": "code",
   "execution_count": 73,
   "metadata": {
    "collapsed": true
   },
   "outputs": [],
   "source": [
    "#impute Married by mode to fill NaNs\n",
    "X_train['Married']=X_train['Married'].fillna(X_train['Married'].value_counts().index[0])\n",
    "#X_test['Married']=X_test['Married'].fillna(X_test['Married'].value_counts().index[0])\n",
    "\n",
    "#Recheck for NaNs as above"
   ]
  },
  {
   "cell_type": "code",
   "execution_count": 74,
   "metadata": {
    "collapsed": true
   },
   "outputs": [],
   "source": [
    "#Dependents"
   ]
  },
  {
   "cell_type": "code",
   "execution_count": 75,
   "metadata": {
    "collapsed": true
   },
   "outputs": [],
   "source": [
    "#impute Dependents by mode to fill NaNs\n",
    "X_train['Dependents']=X_train['Dependents'].fillna(X_train['Dependents'].value_counts().index[0])\n",
    "X_test['Dependents']=X_test['Dependents'].fillna(X_test['Dependents'].value_counts().index[0])\n",
    "\n",
    "#Recheck for NaNs as above"
   ]
  },
  {
   "cell_type": "code",
   "execution_count": 76,
   "metadata": {
    "collapsed": true
   },
   "outputs": [],
   "source": [
    "#impute Self_Employed by mode to fill NaNs\n",
    "X_train['Self_Employed']=X_train['Self_Employed'].fillna(X_train['Self_Employed'].value_counts().index[0])\n",
    "X_test['Self_Employed']=X_test['Self_Employed'].fillna(X_test['Self_Employed'].value_counts().index[0])\n",
    "\n",
    "#recheck for NaNs as above"
   ]
  },
  {
   "cell_type": "code",
   "execution_count": 77,
   "metadata": {
    "collapsed": true
   },
   "outputs": [],
   "source": [
    "#Credit_History"
   ]
  },
  {
   "cell_type": "code",
   "execution_count": 78,
   "metadata": {
    "collapsed": true
   },
   "outputs": [],
   "source": [
    "#impute Credit_History by mode to fill NaNs\n",
    "X_train['Credit_History']=X_train['Credit_History'].fillna(X_train['Credit_History'].value_counts().index[0])\n",
    "X_test['Credit_History']=X_test['Credit_History'].fillna(X_test['Credit_History'].value_counts().index[0])\n",
    "\n",
    "#recheck for NaNs as above"
   ]
  },
  {
   "cell_type": "code",
   "execution_count": 79,
   "metadata": {
    "collapsed": true
   },
   "outputs": [],
   "source": [
    "#Use LabelEncoder to map all catgeorical variables into numeric\n",
    "\n",
    "#Note here categories for every feature of train and test set are same hence using the Label Encoder fitted on training set\n",
    "#will result in same mapping for test set\n",
    "#If a feature in training and test set has different categories, it needs to be dealt differently \n",
    "#(ex. by row binding train and test sets and then applying LabelEncoder )\n",
    "\n",
    "var_mod = ['Gender','Married','Dependents','Education','Self_Employed','Property_Area']\n",
    "le = LabelEncoder()\n",
    "for i in var_mod:\n",
    "    X_train[i] = le.fit_transform(X_train[i])\n",
    "    X_test[i] = le.transform(X_test[i])\n"
   ]
  },
  {
   "cell_type": "code",
   "execution_count": 80,
   "metadata": {
    "collapsed": true
   },
   "outputs": [],
   "source": [
    "#Some applicants have high ApplicantIncome while others have high CoapplicantIncome\n",
    "#So it might be a good idea to combine both as Total_Income (Feature Engineering...)\n",
    "X_train['Total_Income']=(X_train.ApplicantIncome + X_train.CoapplicantIncome)\n",
    "X_test['Total_Income']=(X_test.ApplicantIncome + X_test.CoapplicantIncome)"
   ]
  },
  {
   "cell_type": "code",
   "execution_count": 81,
   "metadata": {
    "collapsed": true
   },
   "outputs": [],
   "source": [
    "#Dropping ApplicantIncome and CoapplicantIncome\n",
    "X_train=X_train.drop(['ApplicantIncome','CoapplicantIncome'],axis=1)\n",
    "X_test=X_test.drop(['ApplicantIncome','CoapplicantIncome'],axis=1)"
   ]
  },
  {
   "cell_type": "code",
   "execution_count": 82,
   "metadata": {
    "collapsed": true
   },
   "outputs": [],
   "source": [
    "#LoanAmount"
   ]
  },
  {
   "cell_type": "code",
   "execution_count": 83,
   "metadata": {},
   "outputs": [
    {
     "data": {
      "text/html": [
       "<div>\n",
       "<style>\n",
       "    .dataframe thead tr:only-child th {\n",
       "        text-align: right;\n",
       "    }\n",
       "\n",
       "    .dataframe thead th {\n",
       "        text-align: left;\n",
       "    }\n",
       "\n",
       "    .dataframe tbody tr th {\n",
       "        vertical-align: top;\n",
       "    }\n",
       "</style>\n",
       "<table border=\"1\" class=\"dataframe\">\n",
       "  <thead>\n",
       "    <tr style=\"text-align: right;\">\n",
       "      <th></th>\n",
       "      <th></th>\n",
       "      <th>LoanAmount</th>\n",
       "    </tr>\n",
       "    <tr>\n",
       "      <th>Education</th>\n",
       "      <th>Self_Employed</th>\n",
       "      <th></th>\n",
       "    </tr>\n",
       "  </thead>\n",
       "  <tbody>\n",
       "    <tr>\n",
       "      <th rowspan=\"2\" valign=\"top\">0</th>\n",
       "      <th>0</th>\n",
       "      <td>149.724566</td>\n",
       "    </tr>\n",
       "    <tr>\n",
       "      <th>1</th>\n",
       "      <td>182.241935</td>\n",
       "    </tr>\n",
       "    <tr>\n",
       "      <th rowspan=\"2\" valign=\"top\">1</th>\n",
       "      <th>0</th>\n",
       "      <td>115.900000</td>\n",
       "    </tr>\n",
       "    <tr>\n",
       "      <th>1</th>\n",
       "      <td>134.647059</td>\n",
       "    </tr>\n",
       "  </tbody>\n",
       "</table>\n",
       "</div>"
      ],
      "text/plain": [
       "                         LoanAmount\n",
       "Education Self_Employed            \n",
       "0         0              149.724566\n",
       "          1              182.241935\n",
       "1         0              115.900000\n",
       "          1              134.647059"
      ]
     },
     "execution_count": 83,
     "metadata": {},
     "output_type": "execute_result"
    }
   ],
   "source": [
    "#Check pivot tables for Train & Test Sets LoanAmount values grouped by Education and Self_Employed\n",
    "impute_grps_train = X_train.pivot_table(values=[\"LoanAmount\"], index=[\"Education\",\"Self_Employed\"], aggfunc=np.mean)\n",
    "impute_grps_test = X_test.pivot_table(values=[\"LoanAmount\"], index=[\"Education\",\"Self_Employed\"], aggfunc=np.mean)\n",
    "impute_grps_train"
   ]
  },
  {
   "cell_type": "code",
   "execution_count": 84,
   "metadata": {
    "collapsed": true
   },
   "outputs": [],
   "source": [
    "#iterate only through rows with missing LoanAmount\n",
    "#Use means of these groups for LoanAmount imputation\n",
    "for i,row in X_train.loc[X_train['LoanAmount'].isnull(),:].iterrows():\n",
    "  ind = tuple([row['Education'],row['Self_Employed']])\n",
    "  X_train.loc[i,'LoanAmount'] = impute_grps_train.loc[ind].values[0]\n",
    "\n",
    "    \n",
    "for i,row in X_test.loc[X_test['LoanAmount'].isnull(),:].iterrows():\n",
    "  ind = tuple([row['Education'],row['Self_Employed']])\n",
    "  X_test.loc[i,'LoanAmount'] = impute_grps_test.loc[ind].values[0]\n",
    "    \n",
    "#Recheck for NaNs as above"
   ]
  },
  {
   "cell_type": "code",
   "execution_count": 85,
   "metadata": {
    "collapsed": true
   },
   "outputs": [],
   "source": [
    "#Loan_Amount_Term"
   ]
  },
  {
   "cell_type": "code",
   "execution_count": 86,
   "metadata": {
    "collapsed": true
   },
   "outputs": [],
   "source": [
    "#impute by mode to fill NaNs\n",
    "X_train['Loan_Amount_Term']=X_train['Loan_Amount_Term'].fillna(X_train['Loan_Amount_Term'].value_counts().index[0])\n",
    "X_test['Loan_Amount_Term']=X_test['Loan_Amount_Term'].fillna(X_test['Loan_Amount_Term'].value_counts().index[0])"
   ]
  },
  {
   "cell_type": "code",
   "execution_count": 87,
   "metadata": {
    "collapsed": true
   },
   "outputs": [],
   "source": [
    "#Convert Loan_Amount_Term from float to int\n",
    "X_train['Loan_Amount_Term'] = X_train['Loan_Amount_Term'].astype(int)\n",
    "X_test['Loan_Amount_Term'] = X_test['Loan_Amount_Term'].astype(int)"
   ]
  },
  {
   "cell_type": "code",
   "execution_count": 88,
   "metadata": {
    "collapsed": true
   },
   "outputs": [],
   "source": [
    "#Feature Engineering\n",
    "#Add an additional feature EMI where EMI= [P x R x (1+R)^N]/[(1+R)^N-1]\n",
    "#Where P is Loan Amount (given), N is repayment period in months (given), Assuming R to be 9%\n",
    "\n",
    "X_train['EMI']=(X_train.LoanAmount*0.09*(1.09**X_train.Loan_Amount_Term))/((1.09**X_train.Loan_Amount_Term)-1)\n",
    "X_test['EMI']=(X_test.LoanAmount*0.09*(1.09**X_test.Loan_Amount_Term))/((1.09**X_test.Loan_Amount_Term)-1)"
   ]
  },
  {
   "cell_type": "code",
   "execution_count": 89,
   "metadata": {
    "collapsed": true
   },
   "outputs": [],
   "source": [
    "#Banks use EMI/Income ratio to evaluate loans for loan approval process, higher this ratio, reduced are chances to get a loan\n",
    "X_train['EMI/Income']=X_train.EMI/X_train.Total_Income\n",
    "X_test['EMI/Income']=X_test.EMI/X_test.Total_Income"
   ]
  },
  {
   "cell_type": "code",
   "execution_count": 90,
   "metadata": {
    "collapsed": true
   },
   "outputs": [],
   "source": [
    "#Now as EMI/Income is derived from EMI, LoanAmount, Loan_Amount_Term and Total_Income there is high correlation amongst these\n",
    "#We will retain EMI/Income and drop features it is derived from, hence need not take log transformations to handle outliers\n",
    "X_train.drop(labels=['Total_Income','LoanAmount','Loan_Amount_Term','EMI'], inplace=True, axis=1)\n",
    "X_test.drop(labels=['Total_Income','LoanAmount','Loan_Amount_Term','EMI'], inplace=True, axis=1)"
   ]
  },
  {
   "cell_type": "code",
   "execution_count": 91,
   "metadata": {
    "collapsed": true
   },
   "outputs": [],
   "source": [
    "#Separate out labels\n",
    "y_train= X_train['Loan_Status'].copy()\n",
    "X_train.drop(labels=['Loan_Status'], inplace=True, axis=1)"
   ]
  },
  {
   "cell_type": "code",
   "execution_count": 92,
   "metadata": {
    "collapsed": true
   },
   "outputs": [],
   "source": [
    "#Drop Loan_ID\n",
    "X_train.drop(labels=['Loan_ID'], inplace=True, axis=1)\n",
    "\n",
    "submission_loanid=X_test['Loan_ID'].copy()\n",
    "X_test.drop(labels=['Loan_ID'], inplace=True, axis=1)"
   ]
  },
  {
   "cell_type": "code",
   "execution_count": 93,
   "metadata": {
    "collapsed": true
   },
   "outputs": [],
   "source": [
    "#Now our Train and Set sets are ready for modeling"
   ]
  },
  {
   "cell_type": "code",
   "execution_count": 94,
   "metadata": {},
   "outputs": [
    {
     "name": "stdout",
     "output_type": "stream",
     "text": [
      "Accuracy (Training Data) : 80.94%\n",
      "Cross Validation Score : 80.96%\n"
     ]
    }
   ],
   "source": [
    "#Logistic Regression\n",
    "logreg = LogisticRegression()\n",
    "logreg.fit(X_train, y_train)\n",
    "\n",
    "y_logreg=logreg.predict(X_train)\n",
    "accuracy = accuracy_score(y_train,y_logreg)\n",
    "print(\"Accuracy (Training Data) : %s\" % \"{0:.2%}\".format(accuracy))\n",
    "\n",
    "print(\"Cross Validation Score : %s\" % \"{0:.2%}\".format((cval.cross_val_score(logreg, X_train, y_train, cv=5).mean())))\n",
    "\n",
    "y_logreg_test=logreg.predict(X_test)"
   ]
  },
  {
   "cell_type": "code",
   "execution_count": 95,
   "metadata": {},
   "outputs": [
    {
     "name": "stdout",
     "output_type": "stream",
     "text": [
      "Accuracy (Training Data) : 81.76%\n",
      "Cross Validation Score : 80.79%\n"
     ]
    }
   ],
   "source": [
    "#Random Forest Classification\n",
    "rf = RandomForestClassifier(max_features=2, min_samples_split=5, max_depth=3, n_estimators=100, criterion='gini', random_state=15325)\n",
    "rf.fit(X_train, y_train)\n",
    "\n",
    "y_rf=rf.predict(X_train)\n",
    "\n",
    "accuracy = accuracy_score(y_train,y_rf)\n",
    "print(\"Accuracy (Training Data) : %s\" % \"{0:.2%}\".format(accuracy))\n",
    "\n",
    "print(\"Cross Validation Score : %s\" % \"{0:.2%}\".format((cval.cross_val_score(rf, X_train, y_train, cv=5).mean())))\n",
    "\n",
    "y_rf_test=rf.predict(X_test)"
   ]
  },
  {
   "cell_type": "code",
   "execution_count": 96,
   "metadata": {},
   "outputs": [
    {
     "name": "stdout",
     "output_type": "stream",
     "text": [
      "Accuracy (Training Data) : 85.50%\n",
      "Cross Validation Score : 78.02%\n"
     ]
    }
   ],
   "source": [
    "#XGBoost\n",
    "gbm = xgb.XGBClassifier(n_estimators=180)\n",
    "gbm.fit(X_train, y_train)\n",
    "\n",
    "y_xgb=gbm.predict(X_train)\n",
    "\n",
    "accuracy = accuracy_score(y_train,y_xgb)\n",
    "print(\"Accuracy (Training Data) : %s\" % \"{0:.2%}\".format(accuracy))\n",
    "\n",
    "print(\"Cross Validation Score : %s\" % \"{0:.2%}\".format((cval.cross_val_score(gbm, X_train, y_train, cv=5).mean())))\n",
    "\n",
    "y_xgb_test=gbm.predict(X_test)"
   ]
  },
  {
   "cell_type": "code",
   "execution_count": 97,
   "metadata": {},
   "outputs": [
    {
     "name": "stdout",
     "output_type": "stream",
     "text": [
      "Accuracy (Training Data) : 83.06%\n",
      "Cross Validation Score : 78.04%\n"
     ]
    }
   ],
   "source": [
    "# KNeighborsClassifier\n",
    "knn = KNeighborsClassifier(n_neighbors = 5)\n",
    "\n",
    "#scale the data for KNN\n",
    "stdscaler=StandardScaler().fit(X_train)\n",
    "scaled_train=stdscaler.transform(X_train)\n",
    "scaled_test=stdscaler.transform(X_test)\n",
    "\n",
    "knn.fit(scaled_train, y_train)\n",
    "y_knn=knn.predict(scaled_train)\n",
    "\n",
    "accuracy = accuracy_score(y_train,y_knn)\n",
    "print(\"Accuracy (Training Data) : %s\" % \"{0:.2%}\".format(accuracy))\n",
    "print(\"Cross Validation Score : %s\" % \"{0:.2%}\".format((cval.cross_val_score(knn,scaled_train, y_train, cv=5).mean())))\n",
    "\n",
    "y_knn_test=knn.predict(scaled_test)"
   ]
  },
  {
   "cell_type": "code",
   "execution_count": 98,
   "metadata": {
    "collapsed": true
   },
   "outputs": [],
   "source": [
    "#Upload labels for submission\n",
    "test_labels=pd.DataFrame(y_xgb_test) #test labels for different algorithms\n",
    "test_labels['Loan_ID']=submission_loanid\n",
    "test_labels['Loan_Status']=test_labels[0]\n",
    "test_labels=test_labels.drop(labels=[0],axis=1)\n",
    "test_labels.Loan_Status = test_labels.Loan_Status.map({1:'Y', 0:'N'}) \n",
    "test_labels.to_csv('Loan Predictions.csv',sep=',',index=False)"
   ]
  }
 ],
 "metadata": {
  "kernelspec": {
   "display_name": "Python 3",
   "language": "python",
   "name": "python3"
  },
  "language_info": {
   "codemirror_mode": {
    "name": "ipython",
    "version": 3
   },
   "file_extension": ".py",
   "mimetype": "text/x-python",
   "name": "python",
   "nbconvert_exporter": "python",
   "pygments_lexer": "ipython3",
   "version": "3.6.0"
  }
 },
 "nbformat": 4,
 "nbformat_minor": 2
}
