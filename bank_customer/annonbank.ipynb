{
 "cells": [
  {
   "cell_type": "code",
   "execution_count": 1,
   "metadata": {
    "collapsed": true
   },
   "outputs": [],
   "source": [
    "import numpy as np \n",
    "import pandas as pd"
   ]
  },
  {
   "cell_type": "code",
   "execution_count": 2,
   "metadata": {
    "collapsed": true
   },
   "outputs": [],
   "source": [
    "data = pd.read_csv('Churn_Modelling.csv')"
   ]
  },
  {
   "cell_type": "code",
   "execution_count": 3,
   "metadata": {},
   "outputs": [
    {
     "data": {
      "text/html": [
       "<div>\n",
       "<style>\n",
       "    .dataframe thead tr:only-child th {\n",
       "        text-align: right;\n",
       "    }\n",
       "\n",
       "    .dataframe thead th {\n",
       "        text-align: left;\n",
       "    }\n",
       "\n",
       "    .dataframe tbody tr th {\n",
       "        vertical-align: top;\n",
       "    }\n",
       "</style>\n",
       "<table border=\"1\" class=\"dataframe\">\n",
       "  <thead>\n",
       "    <tr style=\"text-align: right;\">\n",
       "      <th></th>\n",
       "      <th>RowNumber</th>\n",
       "      <th>CustomerId</th>\n",
       "      <th>Surname</th>\n",
       "      <th>CreditScore</th>\n",
       "      <th>Geography</th>\n",
       "      <th>Gender</th>\n",
       "      <th>Age</th>\n",
       "      <th>Tenure</th>\n",
       "      <th>Balance</th>\n",
       "      <th>NumOfProducts</th>\n",
       "      <th>HasCrCard</th>\n",
       "      <th>IsActiveMember</th>\n",
       "      <th>EstimatedSalary</th>\n",
       "      <th>Exited</th>\n",
       "    </tr>\n",
       "  </thead>\n",
       "  <tbody>\n",
       "    <tr>\n",
       "      <th>0</th>\n",
       "      <td>1</td>\n",
       "      <td>15634602</td>\n",
       "      <td>Hargrave</td>\n",
       "      <td>619</td>\n",
       "      <td>France</td>\n",
       "      <td>Female</td>\n",
       "      <td>42</td>\n",
       "      <td>2</td>\n",
       "      <td>0.00</td>\n",
       "      <td>1</td>\n",
       "      <td>1</td>\n",
       "      <td>1</td>\n",
       "      <td>101348.88</td>\n",
       "      <td>1</td>\n",
       "    </tr>\n",
       "    <tr>\n",
       "      <th>1</th>\n",
       "      <td>2</td>\n",
       "      <td>15647311</td>\n",
       "      <td>Hill</td>\n",
       "      <td>608</td>\n",
       "      <td>Spain</td>\n",
       "      <td>Female</td>\n",
       "      <td>41</td>\n",
       "      <td>1</td>\n",
       "      <td>83807.86</td>\n",
       "      <td>1</td>\n",
       "      <td>0</td>\n",
       "      <td>1</td>\n",
       "      <td>112542.58</td>\n",
       "      <td>0</td>\n",
       "    </tr>\n",
       "    <tr>\n",
       "      <th>2</th>\n",
       "      <td>3</td>\n",
       "      <td>15619304</td>\n",
       "      <td>Onio</td>\n",
       "      <td>502</td>\n",
       "      <td>France</td>\n",
       "      <td>Female</td>\n",
       "      <td>42</td>\n",
       "      <td>8</td>\n",
       "      <td>159660.80</td>\n",
       "      <td>3</td>\n",
       "      <td>1</td>\n",
       "      <td>0</td>\n",
       "      <td>113931.57</td>\n",
       "      <td>1</td>\n",
       "    </tr>\n",
       "    <tr>\n",
       "      <th>3</th>\n",
       "      <td>4</td>\n",
       "      <td>15701354</td>\n",
       "      <td>Boni</td>\n",
       "      <td>699</td>\n",
       "      <td>France</td>\n",
       "      <td>Female</td>\n",
       "      <td>39</td>\n",
       "      <td>1</td>\n",
       "      <td>0.00</td>\n",
       "      <td>2</td>\n",
       "      <td>0</td>\n",
       "      <td>0</td>\n",
       "      <td>93826.63</td>\n",
       "      <td>0</td>\n",
       "    </tr>\n",
       "    <tr>\n",
       "      <th>4</th>\n",
       "      <td>5</td>\n",
       "      <td>15737888</td>\n",
       "      <td>Mitchell</td>\n",
       "      <td>850</td>\n",
       "      <td>Spain</td>\n",
       "      <td>Female</td>\n",
       "      <td>43</td>\n",
       "      <td>2</td>\n",
       "      <td>125510.82</td>\n",
       "      <td>1</td>\n",
       "      <td>1</td>\n",
       "      <td>1</td>\n",
       "      <td>79084.10</td>\n",
       "      <td>0</td>\n",
       "    </tr>\n",
       "  </tbody>\n",
       "</table>\n",
       "</div>"
      ],
      "text/plain": [
       "   RowNumber  CustomerId   Surname  CreditScore Geography  Gender  Age  \\\n",
       "0          1    15634602  Hargrave          619    France  Female   42   \n",
       "1          2    15647311      Hill          608     Spain  Female   41   \n",
       "2          3    15619304      Onio          502    France  Female   42   \n",
       "3          4    15701354      Boni          699    France  Female   39   \n",
       "4          5    15737888  Mitchell          850     Spain  Female   43   \n",
       "\n",
       "   Tenure    Balance  NumOfProducts  HasCrCard  IsActiveMember  \\\n",
       "0       2       0.00              1          1               1   \n",
       "1       1   83807.86              1          0               1   \n",
       "2       8  159660.80              3          1               0   \n",
       "3       1       0.00              2          0               0   \n",
       "4       2  125510.82              1          1               1   \n",
       "\n",
       "   EstimatedSalary  Exited  \n",
       "0        101348.88       1  \n",
       "1        112542.58       0  \n",
       "2        113931.57       1  \n",
       "3         93826.63       0  \n",
       "4         79084.10       0  "
      ]
     },
     "execution_count": 3,
     "metadata": {},
     "output_type": "execute_result"
    }
   ],
   "source": [
    "data.head()"
   ]
  },
  {
   "cell_type": "code",
   "execution_count": 4,
   "metadata": {
    "collapsed": true
   },
   "outputs": [],
   "source": [
    "x = data.iloc[:,3:13].values\n",
    "y = data.iloc[:,13].values"
   ]
  },
  {
   "cell_type": "code",
   "execution_count": 5,
   "metadata": {
    "collapsed": true
   },
   "outputs": [],
   "source": [
    "from sklearn.preprocessing import LabelEncoder,OneHotEncoder,StandardScaler"
   ]
  },
  {
   "cell_type": "code",
   "execution_count": 6,
   "metadata": {
    "collapsed": true
   },
   "outputs": [],
   "source": [
    "labelencoder1 = LabelEncoder()\n",
    "labelencoder2 = LabelEncoder()"
   ]
  },
  {
   "cell_type": "code",
   "execution_count": 7,
   "metadata": {
    "collapsed": true
   },
   "outputs": [],
   "source": [
    "x[:, 1] = labelencoder1.fit_transform(x[:, 1])\n",
    "\n",
    "x[:, 2]=labelencoder2.fit_transform(x[:,2])\n",
    "\n",
    "onehotencoder = OneHotEncoder(categorical_features = [1])\n",
    "\n",
    "x = onehotencoder.fit_transform(x).toarray()\n",
    "\n",
    "x = x[:, 1:]"
   ]
  },
  {
   "cell_type": "code",
   "execution_count": 8,
   "metadata": {},
   "outputs": [
    {
     "name": "stderr",
     "output_type": "stream",
     "text": [
      "c:\\program files\\python36\\lib\\site-packages\\sklearn\\cross_validation.py:44: DeprecationWarning: This module was deprecated in version 0.18 in favor of the model_selection module into which all the refactored classes and functions are moved. Also note that the interface of the new CV iterators are different from that of this module. This module will be removed in 0.20.\n",
      "  \"This module will be removed in 0.20.\", DeprecationWarning)\n"
     ]
    }
   ],
   "source": [
    "from sklearn.model_selection import train_test_split\n",
    "x_train,x_test,y_train,y_test = train_test_split(x,y,test_size=0.15,random_state = 0)\n",
    "sc = StandardScaler()"
   ]
  },
  {
   "cell_type": "code",
   "execution_count": 11,
   "metadata": {
    "collapsed": true
   },
   "outputs": [],
   "source": [
    "x_train = sc.fit_transform(x_train)\n",
    "x_test = sc.transform(x_test)"
   ]
  },
  {
   "cell_type": "code",
   "execution_count": 12,
   "metadata": {},
   "outputs": [
    {
     "name": "stderr",
     "output_type": "stream",
     "text": [
      "Using TensorFlow backend.\n"
     ]
    }
   ],
   "source": [
    "from keras.models import Sequential\n",
    "from keras.layers import Dense"
   ]
  },
  {
   "cell_type": "code",
   "execution_count": 13,
   "metadata": {
    "collapsed": true
   },
   "outputs": [],
   "source": [
    "classifier = Sequential()"
   ]
  },
  {
   "cell_type": "code",
   "execution_count": 14,
   "metadata": {
    "collapsed": true
   },
   "outputs": [],
   "source": [
    "classifier.add(Dense(units = 6 , kernel_initializer='uniform',activation='relu',input_dim=11))\n",
    "classifier.add(Dense(units = 6 , kernel_initializer='uniform',activation='relu'))\n",
    "classifier.add(Dense(units = 1 , kernel_initializer='uniform',activation='sigmoid'))"
   ]
  },
  {
   "cell_type": "code",
   "execution_count": 15,
   "metadata": {
    "collapsed": true
   },
   "outputs": [],
   "source": [
    "classifier.compile(optimizer='adam',loss='binary_crossentropy',metrics=['accuracy'])"
   ]
  },
  {
   "cell_type": "code",
   "execution_count": 16,
   "metadata": {},
   "outputs": [
    {
     "name": "stdout",
     "output_type": "stream",
     "text": [
      "Epoch 1/100\n",
      "8500/8500 [==============================] - 1s - loss: 0.4831 - acc: 0.7913     - ETA: 0s - loss: 0.4946 - acc: 0.\n",
      "Epoch 2/100\n",
      "8500/8500 [==============================] - 0s - loss: 0.4312 - acc: 0.7921     - ETA: 0s - loss: 0.4287 -\n",
      "Epoch 3/100\n",
      "8500/8500 [==============================] - 1s - loss: 0.4251 - acc: 0.7993     \n",
      "Epoch 4/100\n",
      "8500/8500 [==============================] - 1s - loss: 0.4206 - acc: 0.8224     \n",
      "Epoch 5/100\n",
      "8500/8500 [==============================] - 0s - loss: 0.4181 - acc: 0.8248     \n",
      "Epoch 6/100\n",
      "8500/8500 [==============================] - 0s - loss: 0.4157 - acc: 0.8305     - ETA: 0s - loss: 0.4214 -\n",
      "Epoch 7/100\n",
      "8500/8500 [==============================] - 0s - loss: 0.4140 - acc: 0.8309     \n",
      "Epoch 8/100\n",
      "8500/8500 [==============================] - 1s - loss: 0.4126 - acc: 0.8321     - ETA: 0s - loss: 0.4136 - \n",
      "Epoch 9/100\n",
      "8500/8500 [==============================] - 1s - loss: 0.4115 - acc: 0.8338     \n",
      "Epoch 10/100\n",
      "8500/8500 [==============================] - 0s - loss: 0.4103 - acc: 0.8352     \n",
      "Epoch 11/100\n",
      "8500/8500 [==============================] - 0s - loss: 0.4098 - acc: 0.8348     \n",
      "Epoch 12/100\n",
      "8500/8500 [==============================] - 0s - loss: 0.4087 - acc: 0.8334     - ETA: 0s - loss: 0.4070 - acc: \n",
      "Epoch 13/100\n",
      "8500/8500 [==============================] - 0s - loss: 0.4079 - acc: 0.8351     \n",
      "Epoch 14/100\n",
      "8500/8500 [==============================] - 0s - loss: 0.4070 - acc: 0.8335     - ETA: 0s - loss: 0.4074 - acc: 0.83\n",
      "Epoch 15/100\n",
      "8500/8500 [==============================] - 0s - loss: 0.4068 - acc: 0.8347     \n",
      "Epoch 16/100\n",
      "8500/8500 [==============================] - 0s - loss: 0.4062 - acc: 0.8353     - ETA: 0s - loss: 0.4054 - acc: 0.8\n",
      "Epoch 17/100\n",
      "8500/8500 [==============================] - 0s - loss: 0.4061 - acc: 0.8338     \n",
      "Epoch 18/100\n",
      "8500/8500 [==============================] - 1s - loss: 0.4059 - acc: 0.8342     - ETA: 0s - loss: 0.4039 - acc: 0.834 - ETA: 0s - loss: 0.4035 - acc: 0\n",
      "Epoch 19/100\n",
      "8500/8500 [==============================] - 1s - loss: 0.4051 - acc: 0.8345     \n",
      "Epoch 20/100\n",
      "8500/8500 [==============================] - 1s - loss: 0.4051 - acc: 0.8347     \n",
      "Epoch 21/100\n",
      "8500/8500 [==============================] - 1s - loss: 0.4049 - acc: 0.8362     \n",
      "Epoch 22/100\n",
      "8500/8500 [==============================] - 1s - loss: 0.4044 - acc: 0.8346     - ETA: 0s - loss: 0.4023 - acc: 0.\n",
      "Epoch 23/100\n",
      "8500/8500 [==============================] - 1s - loss: 0.4041 - acc: 0.8344     - ETA: 0s - loss: 0.4007 - acc: 0.8\n",
      "Epoch 24/100\n",
      "8500/8500 [==============================] - 1s - loss: 0.4044 - acc: 0.8351     \n",
      "Epoch 25/100\n",
      "8500/8500 [==============================] - 1s - loss: 0.4039 - acc: 0.8355     \n",
      "Epoch 26/100\n",
      "8500/8500 [==============================] - 1s - loss: 0.4039 - acc: 0.8346     - ETA: 0s - loss: 0.4048 - acc: \n",
      "Epoch 27/100\n",
      "8500/8500 [==============================] - 1s - loss: 0.4039 - acc: 0.8349     \n",
      "Epoch 28/100\n",
      "8500/8500 [==============================] - 1s - loss: 0.4035 - acc: 0.8339     - ETA: 0s - loss: 0.3921\n",
      "Epoch 29/100\n",
      "8500/8500 [==============================] - 1s - loss: 0.4035 - acc: 0.8360     - ETA: 0s - loss: 0.4069 - \n",
      "Epoch 30/100\n",
      "8500/8500 [==============================] - 1s - loss: 0.4035 - acc: 0.8347     - ETA: 0s - loss: 0.4004\n",
      "Epoch 31/100\n",
      "8500/8500 [==============================] - 1s - loss: 0.4035 - acc: 0.8347     \n",
      "Epoch 32/100\n",
      "8500/8500 [==============================] - 1s - loss: 0.4033 - acc: 0.8345     \n",
      "Epoch 33/100\n",
      "8500/8500 [==============================] - 1s - loss: 0.4030 - acc: 0.8351     \n",
      "Epoch 34/100\n",
      "8500/8500 [==============================] - 0s - loss: 0.4034 - acc: 0.8341     - ETA: 0s - loss: 0.4091 - acc: 0.\n",
      "Epoch 35/100\n",
      "8500/8500 [==============================] - 0s - loss: 0.4030 - acc: 0.8365     \n",
      "Epoch 36/100\n",
      "8500/8500 [==============================] - 0s - loss: 0.4030 - acc: 0.8351     \n",
      "Epoch 37/100\n",
      "8500/8500 [==============================] - 0s - loss: 0.4028 - acc: 0.8353     \n",
      "Epoch 38/100\n",
      "8500/8500 [==============================] - 0s - loss: 0.4031 - acc: 0.8347     \n",
      "Epoch 39/100\n",
      "8500/8500 [==============================] - 0s - loss: 0.4019 - acc: 0.8329     \n",
      "Epoch 40/100\n",
      "8500/8500 [==============================] - 0s - loss: 0.4024 - acc: 0.8351     \n",
      "Epoch 41/100\n",
      "8500/8500 [==============================] - 0s - loss: 0.4024 - acc: 0.8352     \n",
      "Epoch 42/100\n",
      "8500/8500 [==============================] - 0s - loss: 0.4026 - acc: 0.8366     \n",
      "Epoch 43/100\n",
      "8500/8500 [==============================] - 0s - loss: 0.4025 - acc: 0.8356     \n",
      "Epoch 44/100\n",
      "8500/8500 [==============================] - 0s - loss: 0.4017 - acc: 0.8351     \n",
      "Epoch 45/100\n",
      "8500/8500 [==============================] - 0s - loss: 0.4022 - acc: 0.8344     \n",
      "Epoch 46/100\n",
      "8500/8500 [==============================] - 0s - loss: 0.4023 - acc: 0.8327     \n",
      "Epoch 47/100\n",
      "8500/8500 [==============================] - 0s - loss: 0.4021 - acc: 0.8340     \n",
      "Epoch 48/100\n",
      "8500/8500 [==============================] - 0s - loss: 0.4021 - acc: 0.8335     - ETA: 0s - loss: 0.3997 - acc: 0.832 - ETA: 0s - loss: 0.3983 - acc\n",
      "Epoch 49/100\n",
      "8500/8500 [==============================] - 0s - loss: 0.4023 - acc: 0.8344     \n",
      "Epoch 50/100\n",
      "8500/8500 [==============================] - 0s - loss: 0.4022 - acc: 0.8356     \n",
      "Epoch 51/100\n",
      "8500/8500 [==============================] - 0s - loss: 0.4018 - acc: 0.8347     \n",
      "Epoch 52/100\n",
      "8500/8500 [==============================] - 0s - loss: 0.4022 - acc: 0.8362     \n",
      "Epoch 53/100\n",
      "8500/8500 [==============================] - 0s - loss: 0.4024 - acc: 0.8339     \n",
      "Epoch 54/100\n",
      "8500/8500 [==============================] - 0s - loss: 0.4020 - acc: 0.8358     - ETA: 0s - loss: 0.4020 - acc: 0.83\n",
      "Epoch 55/100\n",
      "8500/8500 [==============================] - 1s - loss: 0.4016 - acc: 0.8347     - ETA: 0s - loss: 0.4052 - a\n",
      "Epoch 56/100\n",
      "8500/8500 [==============================] - 1s - loss: 0.4022 - acc: 0.8351     \n",
      "Epoch 57/100\n",
      "8500/8500 [==============================] - 1s - loss: 0.4020 - acc: 0.8360     - ETA: 0s - loss: 0.4013 - acc: \n",
      "Epoch 58/100\n",
      "8500/8500 [==============================] - 0s - loss: 0.4020 - acc: 0.8347     \n",
      "Epoch 59/100\n",
      "8500/8500 [==============================] - 0s - loss: 0.4018 - acc: 0.8353     - ETA: 0s - loss: 0.3973 - acc: 0.\n",
      "Epoch 60/100\n",
      "8500/8500 [==============================] - 0s - loss: 0.4023 - acc: 0.8352     \n",
      "Epoch 61/100\n",
      "8500/8500 [==============================] - 0s - loss: 0.4015 - acc: 0.8347     \n",
      "Epoch 62/100\n",
      "8500/8500 [==============================] - 1s - loss: 0.4019 - acc: 0.8362     \n",
      "Epoch 63/100\n",
      "8500/8500 [==============================] - 0s - loss: 0.4015 - acc: 0.8360     \n",
      "Epoch 64/100\n",
      "8500/8500 [==============================] - 0s - loss: 0.4018 - acc: 0.8364     \n",
      "Epoch 65/100\n",
      "8500/8500 [==============================] - 1s - loss: 0.4017 - acc: 0.8367     \n",
      "Epoch 66/100\n",
      "8500/8500 [==============================] - 1s - loss: 0.4019 - acc: 0.8340     \n",
      "Epoch 67/100\n",
      "8500/8500 [==============================] - 1s - loss: 0.4017 - acc: 0.8349     \n",
      "Epoch 68/100\n",
      "8500/8500 [==============================] - 0s - loss: 0.4020 - acc: 0.8353     \n",
      "Epoch 69/100\n",
      "8500/8500 [==============================] - 1s - loss: 0.4017 - acc: 0.8353     \n",
      "Epoch 70/100\n",
      "8500/8500 [==============================] - 1s - loss: 0.4018 - acc: 0.8359     \n",
      "Epoch 71/100\n",
      "8500/8500 [==============================] - 0s - loss: 0.4015 - acc: 0.8352     \n",
      "Epoch 72/100\n",
      "8500/8500 [==============================] - 1s - loss: 0.4014 - acc: 0.8349     \n",
      "Epoch 73/100\n",
      "8500/8500 [==============================] - 1s - loss: 0.4018 - acc: 0.8351     \n",
      "Epoch 74/100\n",
      "8500/8500 [==============================] - 1s - loss: 0.4015 - acc: 0.8345     - ETA: 0s - loss: 0.4013 - acc: 0.833\n",
      "Epoch 75/100\n",
      "8500/8500 [==============================] - 1s - loss: 0.4015 - acc: 0.8360     - ETA: 0s - loss: 0.4128 -\n",
      "Epoch 76/100\n",
      "8500/8500 [==============================] - 1s - loss: 0.4014 - acc: 0.8348     - ETA: 0s - loss: 0.3993 - acc: 0.8\n",
      "Epoch 77/100\n",
      "8500/8500 [==============================] - 0s - loss: 0.4017 - acc: 0.8365     \n",
      "Epoch 78/100\n"
     ]
    },
    {
     "name": "stdout",
     "output_type": "stream",
     "text": [
      "8500/8500 [==============================] - 0s - loss: 0.4015 - acc: 0.8342     - ETA: 0s - loss: 0.3991 - acc: 0.835 - ETA: 0s - loss: 0.4014 - acc: 0.834\n",
      "Epoch 79/100\n",
      "8500/8500 [==============================] - 1s - loss: 0.4016 - acc: 0.8358     \n",
      "Epoch 80/100\n",
      "8500/8500 [==============================] - 0s - loss: 0.4014 - acc: 0.8362     \n",
      "Epoch 81/100\n",
      "8500/8500 [==============================] - 0s - loss: 0.4016 - acc: 0.8367     \n",
      "Epoch 82/100\n",
      "8500/8500 [==============================] - 0s - loss: 0.4011 - acc: 0.8355     \n",
      "Epoch 83/100\n",
      "8500/8500 [==============================] - 0s - loss: 0.4015 - acc: 0.8358     \n",
      "Epoch 84/100\n",
      "8500/8500 [==============================] - 0s - loss: 0.4017 - acc: 0.8348     \n",
      "Epoch 85/100\n",
      "8500/8500 [==============================] - 0s - loss: 0.4015 - acc: 0.8369     - ETA: 0s - loss: 0.3989 - acc: 0.8\n",
      "Epoch 86/100\n",
      "8500/8500 [==============================] - 1s - loss: 0.4010 - acc: 0.8352     \n",
      "Epoch 87/100\n",
      "8500/8500 [==============================] - 1s - loss: 0.4016 - acc: 0.8349     \n",
      "Epoch 88/100\n",
      "8500/8500 [==============================] - 0s - loss: 0.4013 - acc: 0.8365     \n",
      "Epoch 89/100\n",
      "8500/8500 [==============================] - 0s - loss: 0.4014 - acc: 0.8359     \n",
      "Epoch 90/100\n",
      "8500/8500 [==============================] - 0s - loss: 0.4016 - acc: 0.8356     \n",
      "Epoch 91/100\n",
      "8500/8500 [==============================] - 0s - loss: 0.4010 - acc: 0.8364     \n",
      "Epoch 92/100\n",
      "8500/8500 [==============================] - 0s - loss: 0.4016 - acc: 0.8358     - ETA: 0s - loss: 0.4056 - acc:\n",
      "Epoch 93/100\n",
      "8500/8500 [==============================] - 0s - loss: 0.4015 - acc: 0.8376     \n",
      "Epoch 94/100\n",
      "8500/8500 [==============================] - 0s - loss: 0.4016 - acc: 0.8347     \n",
      "Epoch 95/100\n",
      "8500/8500 [==============================] - 0s - loss: 0.4016 - acc: 0.8349     - ETA: 0s - loss: 0.3983 \n",
      "Epoch 96/100\n",
      "8500/8500 [==============================] - 0s - loss: 0.4013 - acc: 0.8355     \n",
      "Epoch 97/100\n",
      "8500/8500 [==============================] - 0s - loss: 0.4015 - acc: 0.8347     \n",
      "Epoch 98/100\n",
      "8500/8500 [==============================] - 0s - loss: 0.4014 - acc: 0.8346     \n",
      "Epoch 99/100\n",
      "8500/8500 [==============================] - 0s - loss: 0.4014 - acc: 0.8372     \n",
      "Epoch 100/100\n",
      "8500/8500 [==============================] - 1s - loss: 0.4011 - acc: 0.8346     \n"
     ]
    },
    {
     "data": {
      "text/plain": [
       "<keras.callbacks.History at 0xdbcd940>"
      ]
     },
     "execution_count": 16,
     "metadata": {},
     "output_type": "execute_result"
    }
   ],
   "source": [
    "classifier.fit(x_train,y_train,batch_size = 10,epochs=100)"
   ]
  },
  {
   "cell_type": "code",
   "execution_count": 17,
   "metadata": {
    "collapsed": true
   },
   "outputs": [],
   "source": [
    "y_pred = classifier.predict(x_test)"
   ]
  },
  {
   "cell_type": "code",
   "execution_count": 18,
   "metadata": {},
   "outputs": [
    {
     "data": {
      "text/plain": [
       "array([[ 0.23284076],\n",
       "       [ 0.51396227],\n",
       "       [ 0.15699457],\n",
       "       ..., \n",
       "       [ 0.32842132],\n",
       "       [ 0.03585028],\n",
       "       [ 0.1930901 ]], dtype=float32)"
      ]
     },
     "execution_count": 18,
     "metadata": {},
     "output_type": "execute_result"
    }
   ],
   "source": [
    "y_pred"
   ]
  },
  {
   "cell_type": "code",
   "execution_count": 19,
   "metadata": {
    "collapsed": true
   },
   "outputs": [],
   "source": [
    "y_predstat = y_pred>0.5"
   ]
  },
  {
   "cell_type": "code",
   "execution_count": 20,
   "metadata": {
    "collapsed": true
   },
   "outputs": [],
   "source": [
    "from sklearn.metrics import confusion_matrix,accuracy_score"
   ]
  },
  {
   "cell_type": "code",
   "execution_count": 21,
   "metadata": {},
   "outputs": [
    {
     "data": {
      "text/plain": [
       "array([[1189,   41],\n",
       "       [ 189,   81]])"
      ]
     },
     "execution_count": 21,
     "metadata": {},
     "output_type": "execute_result"
    }
   ],
   "source": [
    "confusion_matrix(y_test,y_predstat)"
   ]
  },
  {
   "cell_type": "code",
   "execution_count": 23,
   "metadata": {},
   "outputs": [
    {
     "data": {
      "text/plain": [
       "0.84666666666666668"
      ]
     },
     "execution_count": 23,
     "metadata": {},
     "output_type": "execute_result"
    }
   ],
   "source": [
    "accuracy_score(y_test,y_predstat)"
   ]
  }
 ],
 "metadata": {
  "kernelspec": {
   "display_name": "Python 3",
   "language": "python",
   "name": "python3"
  },
  "language_info": {
   "codemirror_mode": {
    "name": "ipython",
    "version": 3
   },
   "file_extension": ".py",
   "mimetype": "text/x-python",
   "name": "python",
   "nbconvert_exporter": "python",
   "pygments_lexer": "ipython3",
   "version": "3.6.0"
  }
 },
 "nbformat": 4,
 "nbformat_minor": 2
}
