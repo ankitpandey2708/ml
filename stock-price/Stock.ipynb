{
 "cells": [
  {
   "cell_type": "code",
   "execution_count": 85,
   "metadata": {
    "collapsed": true
   },
   "outputs": [],
   "source": [
    "%matplotlib inline\n",
    "import numpy as np\n",
    "import pandas as pd\n",
    "import matplotlib.pyplot as plt\n",
    "from sklearn.metrics import mean_squared_error\n",
    "plt.rcParams[\"figure.figsize\"] = (20, 10)"
   ]
  },
  {
   "cell_type": "code",
   "execution_count": 86,
   "metadata": {},
   "outputs": [
    {
     "name": "stdout",
     "output_type": "stream",
     "text": [
      "<class 'pandas.core.frame.DataFrame'>\n",
      "RangeIndex: 1258 entries, 0 to 1257\n",
      "Data columns (total 6 columns):\n",
      "Date      1258 non-null object\n",
      "Open      1258 non-null float64\n",
      "High      1258 non-null float64\n",
      "Low       1258 non-null float64\n",
      "Close     1258 non-null object\n",
      "Volume    1258 non-null object\n",
      "dtypes: float64(3), object(3)\n",
      "memory usage: 59.0+ KB\n"
     ]
    }
   ],
   "source": [
    "train = pd.read_csv('Google_Stock_Price_Train.csv')\n",
    "train.info()"
   ]
  },
  {
   "cell_type": "code",
   "execution_count": 87,
   "metadata": {},
   "outputs": [
    {
     "data": {
      "text/html": [
       "<div>\n",
       "<style>\n",
       "    .dataframe thead tr:only-child th {\n",
       "        text-align: right;\n",
       "    }\n",
       "\n",
       "    .dataframe thead th {\n",
       "        text-align: left;\n",
       "    }\n",
       "\n",
       "    .dataframe tbody tr th {\n",
       "        vertical-align: top;\n",
       "    }\n",
       "</style>\n",
       "<table border=\"1\" class=\"dataframe\">\n",
       "  <thead>\n",
       "    <tr style=\"text-align: right;\">\n",
       "      <th></th>\n",
       "      <th>Open</th>\n",
       "    </tr>\n",
       "  </thead>\n",
       "  <tbody>\n",
       "    <tr>\n",
       "      <th>0</th>\n",
       "      <td>325.25</td>\n",
       "    </tr>\n",
       "    <tr>\n",
       "      <th>1</th>\n",
       "      <td>331.27</td>\n",
       "    </tr>\n",
       "    <tr>\n",
       "      <th>2</th>\n",
       "      <td>329.83</td>\n",
       "    </tr>\n",
       "    <tr>\n",
       "      <th>3</th>\n",
       "      <td>328.34</td>\n",
       "    </tr>\n",
       "    <tr>\n",
       "      <th>4</th>\n",
       "      <td>322.04</td>\n",
       "    </tr>\n",
       "  </tbody>\n",
       "</table>\n",
       "</div>"
      ],
      "text/plain": [
       "     Open\n",
       "0  325.25\n",
       "1  331.27\n",
       "2  329.83\n",
       "3  328.34\n",
       "4  322.04"
      ]
     },
     "execution_count": 87,
     "metadata": {},
     "output_type": "execute_result"
    }
   ],
   "source": [
    "### to make label into a 2d numpy array\n",
    "label = train.iloc[:,1:2]\n",
    "label.head()"
   ]
  },
  {
   "cell_type": "code",
   "execution_count": 88,
   "metadata": {
    "collapsed": true
   },
   "outputs": [],
   "source": [
    "### Feature Scaling , Using Normalization for a better result\n",
    "from sklearn.preprocessing import MinMaxScaler\n",
    "sc = MinMaxScaler()\n",
    "train = sc.fit_transform(label)"
   ]
  },
  {
   "cell_type": "code",
   "execution_count": 89,
   "metadata": {
    "collapsed": true
   },
   "outputs": [],
   "source": [
    "## for an lstm network t would be the train and validation shall be t+1 \n",
    "x_train = train[0:1257]"
   ]
  },
  {
   "cell_type": "code",
   "execution_count": 90,
   "metadata": {
    "collapsed": true
   },
   "outputs": [],
   "source": [
    "y_train = train[1:1258]"
   ]
  },
  {
   "cell_type": "code",
   "execution_count": 91,
   "metadata": {},
   "outputs": [
    {
     "data": {
      "text/plain": [
       "array([[ 0.08581368],\n",
       "       [ 0.09701243],\n",
       "       [ 0.09433366],\n",
       "       ..., \n",
       "       [ 0.95163331],\n",
       "       [ 0.95725128],\n",
       "       [ 0.93796041]])"
      ]
     },
     "execution_count": 91,
     "metadata": {},
     "output_type": "execute_result"
    }
   ],
   "source": [
    "x_train"
   ]
  },
  {
   "cell_type": "code",
   "execution_count": 92,
   "metadata": {},
   "outputs": [
    {
     "data": {
      "text/plain": [
       "array([[ 0.09701243],\n",
       "       [ 0.09433366],\n",
       "       [ 0.09156187],\n",
       "       ..., \n",
       "       [ 0.95725128],\n",
       "       [ 0.93796041],\n",
       "       [ 0.93688146]])"
      ]
     },
     "execution_count": 92,
     "metadata": {},
     "output_type": "execute_result"
    }
   ],
   "source": [
    "y_train"
   ]
  },
  {
   "cell_type": "markdown",
   "metadata": {},
   "source": [
    "The second price in x_train can be seen as the first price at y_Train"
   ]
  },
  {
   "cell_type": "code",
   "execution_count": 93,
   "metadata": {
    "collapsed": true
   },
   "outputs": [],
   "source": [
    "## for keras converting to 3d\n",
    "x_train = np.reshape(x_train,(1257,1,1))"
   ]
  },
  {
   "cell_type": "code",
   "execution_count": 94,
   "metadata": {},
   "outputs": [
    {
     "data": {
      "text/plain": [
       "array([[[ 0.08581368]],\n",
       "\n",
       "       [[ 0.09701243]],\n",
       "\n",
       "       [[ 0.09433366]],\n",
       "\n",
       "       ..., \n",
       "       [[ 0.95163331]],\n",
       "\n",
       "       [[ 0.95725128]],\n",
       "\n",
       "       [[ 0.93796041]]])"
      ]
     },
     "execution_count": 94,
     "metadata": {},
     "output_type": "execute_result"
    }
   ],
   "source": [
    "x_train"
   ]
  },
  {
   "cell_type": "markdown",
   "metadata": {},
   "source": [
    "Converted to 3d array"
   ]
  },
  {
   "cell_type": "code",
   "execution_count": 95,
   "metadata": {},
   "outputs": [],
   "source": [
    "import tensorflow as tf\n",
    "from keras.layers import Dense,LSTM\n",
    "from keras.models import Sequential"
   ]
  },
  {
   "cell_type": "code",
   "execution_count": 96,
   "metadata": {
    "collapsed": true
   },
   "outputs": [],
   "source": [
    "reg = Sequential()\n",
    "## Input layer\n",
    "reg.add(LSTM(units =4,activation = 'sigmoid',input_shape = (None , 1)))\n",
    "## Output layer\n",
    "reg.add(Dense(units = 1,kernel_initializer='uniform'))\n",
    "#compiling the rnn \n",
    "reg.compile(optimizer = 'adam',loss = 'mean_squared_error')"
   ]
  },
  {
   "cell_type": "code",
   "execution_count": 97,
   "metadata": {},
   "outputs": [
    {
     "name": "stdout",
     "output_type": "stream",
     "text": [
      "Epoch 1/200\n",
      "1257/1257 [==============================] - 1s - loss: 0.2628     \n",
      "Epoch 2/200\n",
      "1257/1257 [==============================] - 0s - loss: 0.2118     \n",
      "Epoch 3/200\n",
      "1257/1257 [==============================] - 0s - loss: 0.1705     \n",
      "Epoch 4/200\n",
      "1257/1257 [==============================] - 0s - loss: 0.1384     \n",
      "Epoch 5/200\n",
      "1257/1257 [==============================] - 0s - loss: 0.1152     \n",
      "Epoch 6/200\n",
      "1257/1257 [==============================] - 0s - loss: 0.0994     \n",
      "Epoch 7/200\n",
      "1257/1257 [==============================] - 0s - loss: 0.0889     \n",
      "Epoch 8/200\n",
      "1257/1257 [==============================] - 0s - loss: 0.0827     \n",
      "Epoch 9/200\n",
      "1257/1257 [==============================] - 0s - loss: 0.0791     \n",
      "Epoch 10/200\n",
      "1257/1257 [==============================] - 0s - loss: 0.0770     \n",
      "Epoch 11/200\n",
      "1257/1257 [==============================] - 0s - loss: 0.0758     \n",
      "Epoch 12/200\n",
      "1257/1257 [==============================] - 0s - loss: 0.0749     \n",
      "Epoch 13/200\n",
      "1257/1257 [==============================] - 0s - loss: 0.0742     \n",
      "Epoch 14/200\n",
      "1257/1257 [==============================] - 0s - loss: 0.0735     \n",
      "Epoch 15/200\n",
      "1257/1257 [==============================] - 0s - loss: 0.0729     \n",
      "Epoch 16/200\n",
      "1257/1257 [==============================] - 0s - loss: 0.0722     \n",
      "Epoch 17/200\n",
      "1257/1257 [==============================] - 0s - loss: 0.0715     \n",
      "Epoch 18/200\n",
      "1257/1257 [==============================] - 0s - loss: 0.0709     \n",
      "Epoch 19/200\n",
      "1257/1257 [==============================] - 0s - loss: 0.0702     \n",
      "Epoch 20/200\n",
      "1257/1257 [==============================] - 0s - loss: 0.0695     \n",
      "Epoch 21/200\n",
      "1257/1257 [==============================] - 0s - loss: 0.0688     \n",
      "Epoch 22/200\n",
      "1257/1257 [==============================] - 0s - loss: 0.0681     \n",
      "Epoch 23/200\n",
      "1257/1257 [==============================] - 0s - loss: 0.0673     \n",
      "Epoch 24/200\n",
      "1257/1257 [==============================] - 0s - loss: 0.0666     \n",
      "Epoch 25/200\n",
      "1257/1257 [==============================] - 0s - loss: 0.0658     \n",
      "Epoch 26/200\n",
      "1257/1257 [==============================] - 0s - loss: 0.0650     \n",
      "Epoch 27/200\n",
      "1257/1257 [==============================] - 0s - loss: 0.0642     \n",
      "Epoch 28/200\n",
      "1257/1257 [==============================] - 0s - loss: 0.0634     \n",
      "Epoch 29/200\n",
      "1257/1257 [==============================] - 0s - loss: 0.0625     \n",
      "Epoch 30/200\n",
      "1257/1257 [==============================] - 0s - loss: 0.0616     \n",
      "Epoch 31/200\n",
      "1257/1257 [==============================] - 0s - loss: 0.0607     \n",
      "Epoch 32/200\n",
      "1257/1257 [==============================] - 0s - loss: 0.0598     \n",
      "Epoch 33/200\n",
      "1257/1257 [==============================] - 0s - loss: 0.0589     \n",
      "Epoch 34/200\n",
      "1257/1257 [==============================] - 0s - loss: 0.0579     \n",
      "Epoch 35/200\n",
      "1257/1257 [==============================] - 0s - loss: 0.0569     \n",
      "Epoch 36/200\n",
      "1257/1257 [==============================] - 0s - loss: 0.0559     \n",
      "Epoch 37/200\n",
      "1257/1257 [==============================] - 0s - loss: 0.0549     \n",
      "Epoch 38/200\n",
      "1257/1257 [==============================] - 0s - loss: 0.0538     \n",
      "Epoch 39/200\n",
      "1257/1257 [==============================] - 0s - loss: 0.0527     \n",
      "Epoch 40/200\n",
      "1257/1257 [==============================] - 0s - loss: 0.0516     \n",
      "Epoch 41/200\n",
      "1257/1257 [==============================] - 0s - loss: 0.0505     \n",
      "Epoch 42/200\n",
      "1257/1257 [==============================] - 0s - loss: 0.0494     \n",
      "Epoch 43/200\n",
      "1257/1257 [==============================] - 0s - loss: 0.0482     \n",
      "Epoch 44/200\n",
      "1257/1257 [==============================] - 0s - loss: 0.0471     \n",
      "Epoch 45/200\n",
      "1257/1257 [==============================] - 0s - loss: 0.0459     \n",
      "Epoch 46/200\n",
      "1257/1257 [==============================] - 0s - loss: 0.0447     \n",
      "Epoch 47/200\n",
      "1257/1257 [==============================] - 0s - loss: 0.0435     \n",
      "Epoch 48/200\n",
      "1257/1257 [==============================] - 0s - loss: 0.0422     \n",
      "Epoch 49/200\n",
      "1257/1257 [==============================] - 0s - loss: 0.0410     \n",
      "Epoch 50/200\n",
      "1257/1257 [==============================] - 0s - loss: 0.0397     \n",
      "Epoch 51/200\n",
      "1257/1257 [==============================] - 0s - loss: 0.0385     \n",
      "Epoch 52/200\n",
      "1257/1257 [==============================] - 0s - loss: 0.0372     \n",
      "Epoch 53/200\n",
      "1257/1257 [==============================] - 0s - loss: 0.0359     \n",
      "Epoch 54/200\n",
      "1257/1257 [==============================] - 0s - loss: 0.0346     \n",
      "Epoch 55/200\n",
      "1257/1257 [==============================] - ETA: 0s - loss: 0.033 - 0s - loss: 0.0333     \n",
      "Epoch 56/200\n",
      "1257/1257 [==============================] - 0s - loss: 0.0320     \n",
      "Epoch 57/200\n",
      "1257/1257 [==============================] - 0s - loss: 0.0307     \n",
      "Epoch 58/200\n",
      "1257/1257 [==============================] - 0s - loss: 0.0294     \n",
      "Epoch 59/200\n",
      "1257/1257 [==============================] - 0s - loss: 0.0282     \n",
      "Epoch 60/200\n",
      "1257/1257 [==============================] - 0s - loss: 0.0269     \n",
      "Epoch 61/200\n",
      "1257/1257 [==============================] - 0s - loss: 0.0257     \n",
      "Epoch 62/200\n",
      "1257/1257 [==============================] - 0s - loss: 0.0244     \n",
      "Epoch 63/200\n",
      "1257/1257 [==============================] - 0s - loss: 0.0232     \n",
      "Epoch 64/200\n",
      "1257/1257 [==============================] - 0s - loss: 0.0220     \n",
      "Epoch 65/200\n",
      "1257/1257 [==============================] - 0s - loss: 0.0209     \n",
      "Epoch 66/200\n",
      "1257/1257 [==============================] - 0s - loss: 0.0197     \n",
      "Epoch 67/200\n",
      "1257/1257 [==============================] - 0s - loss: 0.0186     \n",
      "Epoch 68/200\n",
      "1257/1257 [==============================] - 0s - loss: 0.0175     \n",
      "Epoch 69/200\n",
      "1257/1257 [==============================] - 0s - loss: 0.0165     \n",
      "Epoch 70/200\n",
      "1257/1257 [==============================] - 0s - loss: 0.0154     \n",
      "Epoch 71/200\n",
      "1257/1257 [==============================] - 0s - loss: 0.0144     \n",
      "Epoch 72/200\n",
      "1257/1257 [==============================] - 0s - loss: 0.0135     \n",
      "Epoch 73/200\n",
      "1257/1257 [==============================] - 0s - loss: 0.0126     \n",
      "Epoch 74/200\n",
      "1257/1257 [==============================] - 0s - loss: 0.0117     \n",
      "Epoch 75/200\n",
      "1257/1257 [==============================] - 0s - loss: 0.0108     \n",
      "Epoch 76/200\n",
      "1257/1257 [==============================] - 0s - loss: 0.0100     \n",
      "Epoch 77/200\n",
      "1257/1257 [==============================] - 0s - loss: 0.0093     \n",
      "Epoch 78/200\n",
      "1257/1257 [==============================] - 0s - loss: 0.0085     \n",
      "Epoch 79/200\n",
      "1257/1257 [==============================] - 0s - loss: 0.0079     \n",
      "Epoch 80/200\n",
      "1257/1257 [==============================] - 0s - loss: 0.0072     \n",
      "Epoch 81/200\n",
      "1257/1257 [==============================] - 0s - loss: 0.0066     \n",
      "Epoch 82/200\n",
      "1257/1257 [==============================] - 0s - loss: 0.0060     \n",
      "Epoch 83/200\n",
      "1257/1257 [==============================] - 0s - loss: 0.0055     \n",
      "Epoch 84/200\n",
      "1257/1257 [==============================] - 0s - loss: 0.0050     \n",
      "Epoch 85/200\n",
      "1257/1257 [==============================] - 0s - loss: 0.0046     \n",
      "Epoch 86/200\n",
      "1257/1257 [==============================] - 0s - loss: 0.0041     \n",
      "Epoch 87/200\n",
      "1257/1257 [==============================] - 0s - loss: 0.0038     \n",
      "Epoch 88/200\n",
      "1257/1257 [==============================] - 0s - loss: 0.0034     \n",
      "Epoch 89/200\n",
      "1257/1257 [==============================] - 0s - loss: 0.0031     \n",
      "Epoch 90/200\n",
      "1257/1257 [==============================] - 0s - loss: 0.0028     \n",
      "Epoch 91/200\n",
      "1257/1257 [==============================] - 0s - loss: 0.0025     \n",
      "Epoch 92/200\n",
      "1257/1257 [==============================] - 0s - loss: 0.0023     \n",
      "Epoch 93/200\n",
      "1257/1257 [==============================] - 0s - loss: 0.0020     \n",
      "Epoch 94/200\n",
      "1257/1257 [==============================] - 0s - loss: 0.0018     \n",
      "Epoch 95/200\n",
      "1257/1257 [==============================] - 0s - loss: 0.0017     \n",
      "Epoch 96/200\n",
      "1257/1257 [==============================] - 0s - loss: 0.0015     \n",
      "Epoch 97/200\n",
      "1257/1257 [==============================] - 0s - loss: 0.0014     \n",
      "Epoch 98/200\n",
      "1257/1257 [==============================] - 0s - loss: 0.0012     \n",
      "Epoch 99/200\n",
      "1257/1257 [==============================] - 0s - loss: 0.0011     \n",
      "Epoch 100/200\n",
      "1257/1257 [==============================] - 0s - loss: 0.0010         \n",
      "Epoch 101/200\n"
     ]
    },
    {
     "name": "stdout",
     "output_type": "stream",
     "text": [
      "1257/1257 [==============================] - 0s - loss: 9.3839e-04     \n",
      "Epoch 102/200\n",
      "1257/1257 [==============================] - 0s - loss: 8.6318e-04     \n",
      "Epoch 103/200\n",
      "1257/1257 [==============================] - 0s - loss: 7.9895e-04     \n",
      "Epoch 104/200\n",
      "1257/1257 [==============================] - 0s - loss: 7.4098e-04     \n",
      "Epoch 105/200\n",
      "1257/1257 [==============================] - 0s - loss: 6.9269e-04     \n",
      "Epoch 106/200\n",
      "1257/1257 [==============================] - 0s - loss: 6.4856e-04     \n",
      "Epoch 107/200\n",
      "1257/1257 [==============================] - 0s - loss: 6.1060e-04     \n",
      "Epoch 108/200\n",
      "1257/1257 [==============================] - 0s - loss: 5.7762e-04     \n",
      "Epoch 109/200\n",
      "1257/1257 [==============================] - 0s - loss: 5.5041e-04     \n",
      "Epoch 110/200\n",
      "1257/1257 [==============================] - 0s - loss: 5.2564e-04     \n",
      "Epoch 111/200\n",
      "1257/1257 [==============================] - 0s - loss: 5.0416e-04     \n",
      "Epoch 112/200\n",
      "1257/1257 [==============================] - 0s - loss: 4.8564e-04     \n",
      "Epoch 113/200\n",
      "1257/1257 [==============================] - 0s - loss: 4.6902e-04     \n",
      "Epoch 114/200\n",
      "1257/1257 [==============================] - 0s - loss: 4.5495e-04     \n",
      "Epoch 115/200\n",
      "1257/1257 [==============================] - 0s - loss: 4.4224e-04     \n",
      "Epoch 116/200\n",
      "1257/1257 [==============================] - 0s - loss: 4.3117e-04     \n",
      "Epoch 117/200\n",
      "1257/1257 [==============================] - 0s - loss: 4.2082e-04     \n",
      "Epoch 118/200\n",
      "1257/1257 [==============================] - 0s - loss: 4.1187e-04     \n",
      "Epoch 119/200\n",
      "1257/1257 [==============================] - 0s - loss: 4.0472e-04     \n",
      "Epoch 120/200\n",
      "1257/1257 [==============================] - 0s - loss: 3.9612e-04     \n",
      "Epoch 121/200\n",
      "1257/1257 [==============================] - 0s - loss: 3.8916e-04     \n",
      "Epoch 122/200\n",
      "1257/1257 [==============================] - 0s - loss: 3.8348e-04     \n",
      "Epoch 123/200\n",
      "1257/1257 [==============================] - 0s - loss: 3.7753e-04     \n",
      "Epoch 124/200\n",
      "1257/1257 [==============================] - 0s - loss: 3.7108e-04     \n",
      "Epoch 125/200\n",
      "1257/1257 [==============================] - 0s - loss: 3.6576e-04     \n",
      "Epoch 126/200\n",
      "1257/1257 [==============================] - 0s - loss: 3.6064e-04     \n",
      "Epoch 127/200\n",
      "1257/1257 [==============================] - 0s - loss: 3.5622e-04     \n",
      "Epoch 128/200\n",
      "1257/1257 [==============================] - 0s - loss: 3.5227e-04     \n",
      "Epoch 129/200\n",
      "1257/1257 [==============================] - 0s - loss: 3.4819e-04     \n",
      "Epoch 130/200\n",
      "1257/1257 [==============================] - 0s - loss: 3.4376e-04     \n",
      "Epoch 131/200\n",
      "1257/1257 [==============================] - 0s - loss: 3.4106e-04     \n",
      "Epoch 132/200\n",
      "1257/1257 [==============================] - 0s - loss: 3.3671e-04     \n",
      "Epoch 133/200\n",
      "1257/1257 [==============================] - 0s - loss: 3.3397e-04     \n",
      "Epoch 134/200\n",
      "1257/1257 [==============================] - 0s - loss: 3.2981e-04     \n",
      "Epoch 135/200\n",
      "1257/1257 [==============================] - 0s - loss: 3.2749e-04     \n",
      "Epoch 136/200\n",
      "1257/1257 [==============================] - 0s - loss: 3.2417e-04     \n",
      "Epoch 137/200\n",
      "1257/1257 [==============================] - 0s - loss: 3.2334e-04     \n",
      "Epoch 138/200\n",
      "1257/1257 [==============================] - 0s - loss: 3.1929e-04     \n",
      "Epoch 139/200\n",
      "1257/1257 [==============================] - 0s - loss: 3.1814e-04     \n",
      "Epoch 140/200\n",
      "1257/1257 [==============================] - 0s - loss: 3.1474e-04     \n",
      "Epoch 141/200\n",
      "1257/1257 [==============================] - 0s - loss: 3.1338e-04     \n",
      "Epoch 142/200\n",
      "1257/1257 [==============================] - 0s - loss: 3.1103e-04     \n",
      "Epoch 143/200\n",
      "1257/1257 [==============================] - 0s - loss: 3.0967e-04     \n",
      "Epoch 144/200\n",
      "1257/1257 [==============================] - 0s - loss: 3.0844e-04     \n",
      "Epoch 145/200\n",
      "1257/1257 [==============================] - 0s - loss: 3.0671e-04     \n",
      "Epoch 146/200\n",
      "1257/1257 [==============================] - 0s - loss: 3.0465e-04     \n",
      "Epoch 147/200\n",
      "1257/1257 [==============================] - 0s - loss: 3.0314e-04     \n",
      "Epoch 148/200\n",
      "1257/1257 [==============================] - 0s - loss: 3.0014e-04     \n",
      "Epoch 149/200\n",
      "1257/1257 [==============================] - 0s - loss: 2.9918e-04     \n",
      "Epoch 150/200\n",
      "1257/1257 [==============================] - 0s - loss: 2.9740e-04     \n",
      "Epoch 151/200\n",
      "1257/1257 [==============================] - 0s - loss: 2.9632e-04     \n",
      "Epoch 152/200\n",
      "1257/1257 [==============================] - 0s - loss: 2.9481e-04     \n",
      "Epoch 153/200\n",
      "1257/1257 [==============================] - 0s - loss: 2.9398e-04     \n",
      "Epoch 154/200\n",
      "1257/1257 [==============================] - 0s - loss: 2.9241e-04     \n",
      "Epoch 155/200\n",
      "1257/1257 [==============================] - 0s - loss: 2.9240e-04     \n",
      "Epoch 156/200\n",
      "1257/1257 [==============================] - 0s - loss: 2.9025e-04     \n",
      "Epoch 157/200\n",
      "1257/1257 [==============================] - 0s - loss: 2.9002e-04     \n",
      "Epoch 158/200\n",
      "1257/1257 [==============================] - 0s - loss: 2.8877e-04     \n",
      "Epoch 159/200\n",
      "1257/1257 [==============================] - 0s - loss: 2.8751e-04     \n",
      "Epoch 160/200\n",
      "1257/1257 [==============================] - 0s - loss: 2.8666e-04     \n",
      "Epoch 161/200\n",
      "1257/1257 [==============================] - 0s - loss: 2.8680e-04     \n",
      "Epoch 162/200\n",
      "1257/1257 [==============================] - 0s - loss: 2.8662e-04     \n",
      "Epoch 163/200\n",
      "1257/1257 [==============================] - 0s - loss: 2.8431e-04     \n",
      "Epoch 164/200\n",
      "1257/1257 [==============================] - 0s - loss: 2.8279e-04     \n",
      "Epoch 165/200\n",
      "1257/1257 [==============================] - 0s - loss: 2.8304e-04     \n",
      "Epoch 166/200\n",
      "1257/1257 [==============================] - 0s - loss: 2.8257e-04     \n",
      "Epoch 167/200\n",
      "1257/1257 [==============================] - 0s - loss: 2.8104e-04     \n",
      "Epoch 168/200\n",
      "1257/1257 [==============================] - 0s - loss: 2.8215e-04     \n",
      "Epoch 169/200\n",
      "1257/1257 [==============================] - 0s - loss: 2.7851e-04     \n",
      "Epoch 170/200\n",
      "1257/1257 [==============================] - 0s - loss: 2.8108e-04     \n",
      "Epoch 171/200\n",
      "1257/1257 [==============================] - 0s - loss: 2.7781e-04     \n",
      "Epoch 172/200\n",
      "1257/1257 [==============================] - 0s - loss: 2.8021e-04     \n",
      "Epoch 173/200\n",
      "1257/1257 [==============================] - 0s - loss: 2.7917e-04     \n",
      "Epoch 174/200\n",
      "1257/1257 [==============================] - 0s - loss: 2.7781e-04     \n",
      "Epoch 175/200\n",
      "1257/1257 [==============================] - 0s - loss: 2.7694e-04     \n",
      "Epoch 176/200\n",
      "1257/1257 [==============================] - 0s - loss: 2.7797e-04     \n",
      "Epoch 177/200\n",
      "1257/1257 [==============================] - 0s - loss: 2.7578e-04     \n",
      "Epoch 178/200\n",
      "1257/1257 [==============================] - 0s - loss: 2.7529e-04     \n",
      "Epoch 179/200\n",
      "1257/1257 [==============================] - 0s - loss: 2.7835e-04     \n",
      "Epoch 180/200\n",
      "1257/1257 [==============================] - 0s - loss: 2.7804e-04     \n",
      "Epoch 181/200\n",
      "1257/1257 [==============================] - 0s - loss: 2.7505e-04     \n",
      "Epoch 182/200\n",
      "1257/1257 [==============================] - 0s - loss: 2.7427e-04     \n",
      "Epoch 183/200\n",
      "1257/1257 [==============================] - 0s - loss: 2.7410e-04     \n",
      "Epoch 184/200\n",
      "1257/1257 [==============================] - 0s - loss: 2.7339e-04     \n",
      "Epoch 185/200\n",
      "1257/1257 [==============================] - 0s - loss: 2.7265e-04     \n",
      "Epoch 186/200\n",
      "1257/1257 [==============================] - 0s - loss: 2.7163e-04     \n",
      "Epoch 187/200\n",
      "1257/1257 [==============================] - 0s - loss: 2.6993e-04     \n",
      "Epoch 188/200\n",
      "1257/1257 [==============================] - 0s - loss: 2.7283e-04     \n",
      "Epoch 189/200\n",
      "1257/1257 [==============================] - 0s - loss: 2.6959e-04     \n",
      "Epoch 190/200\n",
      "1257/1257 [==============================] - 0s - loss: 2.7097e-04     \n",
      "Epoch 191/200\n",
      "1257/1257 [==============================] - 0s - loss: 2.7135e-04     \n",
      "Epoch 192/200\n",
      "1257/1257 [==============================] - 0s - loss: 2.7306e-04     \n",
      "Epoch 193/200\n",
      "1257/1257 [==============================] - 0s - loss: 2.7375e-04     \n",
      "Epoch 194/200\n",
      "1257/1257 [==============================] - 0s - loss: 2.7067e-04     \n",
      "Epoch 195/200\n",
      "1257/1257 [==============================] - 0s - loss: 2.7292e-04     \n",
      "Epoch 196/200\n"
     ]
    },
    {
     "name": "stdout",
     "output_type": "stream",
     "text": [
      "1257/1257 [==============================] - 0s - loss: 2.7074e-04     \n",
      "Epoch 197/200\n",
      "1257/1257 [==============================] - 0s - loss: 2.6835e-04     \n",
      "Epoch 198/200\n",
      "1257/1257 [==============================] - 0s - loss: 2.6727e-04     \n",
      "Epoch 199/200\n",
      "1257/1257 [==============================] - 0s - loss: 2.6687e-04     \n",
      "Epoch 200/200\n",
      "1257/1257 [==============================] - 0s - loss: 2.6802e-04     \n"
     ]
    },
    {
     "data": {
      "text/plain": [
       "<keras.callbacks.History at 0x16acc780>"
      ]
     },
     "execution_count": 97,
     "metadata": {},
     "output_type": "execute_result"
    }
   ],
   "source": [
    "reg.fit(x_train,y_train,batch_size=40,epochs=200)"
   ]
  },
  {
   "cell_type": "code",
   "execution_count": 98,
   "metadata": {},
   "outputs": [
    {
     "data": {
      "text/plain": [
       "array([[ 778.81],\n",
       "       [ 788.36],\n",
       "       [ 786.08],\n",
       "       [ 795.26],\n",
       "       [ 806.4 ],\n",
       "       [ 807.86],\n",
       "       [ 805.  ],\n",
       "       [ 807.14],\n",
       "       [ 807.48],\n",
       "       [ 807.08],\n",
       "       [ 805.81],\n",
       "       [ 805.12],\n",
       "       [ 806.91],\n",
       "       [ 807.25],\n",
       "       [ 822.3 ],\n",
       "       [ 829.62],\n",
       "       [ 837.81],\n",
       "       [ 834.71],\n",
       "       [ 814.66],\n",
       "       [ 796.86],\n",
       "       [ 799.68]])"
      ]
     },
     "execution_count": 98,
     "metadata": {},
     "output_type": "execute_result"
    }
   ],
   "source": [
    "test = pd.read_csv('Google_Stock_Price_Test.csv')\n",
    "real_price = test.iloc[:,1:2].values\n",
    "real_price"
   ]
  },
  {
   "cell_type": "code",
   "execution_count": 99,
   "metadata": {
    "collapsed": true
   },
   "outputs": [],
   "source": [
    "inp = sc.transform(real_price)\n",
    "inp = np.reshape(inp , (21,1,1))\n",
    "pred = reg.predict(inp)\n",
    "pred = sc.inverse_transform(pred)"
   ]
  },
  {
   "cell_type": "code",
   "execution_count": 100,
   "metadata": {},
   "outputs": [
    {
     "data": {
      "text/plain": [
       "array([[ 776.81573486],\n",
       "       [ 785.63897705],\n",
       "       [ 783.53417969],\n",
       "       [ 792.00146484],\n",
       "       [ 802.18023682],\n",
       "       [ 802.90258789],\n",
       "       [ 800.96551514],\n",
       "       [ 802.54638672],\n",
       "       [ 802.71466064],\n",
       "       [ 802.51672363],\n",
       "       [ 801.71014404],\n",
       "       [ 801.0758667 ],\n",
       "       [ 802.43261719],\n",
       "       [ 802.60083008],\n",
       "       [ 810.01708984],\n",
       "       [ 813.60284424],\n",
       "       [ 817.59887695],\n",
       "       [ 816.08825684],\n",
       "       [ 806.25982666],\n",
       "       [ 793.47540283],\n",
       "       [ 796.07183838]], dtype=float32)"
      ]
     },
     "execution_count": 100,
     "metadata": {},
     "output_type": "execute_result"
    }
   ],
   "source": [
    "pred"
   ]
  },
  {
   "cell_type": "code",
   "execution_count": 101,
   "metadata": {},
   "outputs": [
    {
     "data": {
      "image/png": "[encoded data removed]",
      "text/plain": [
       "<matplotlib.figure.Figure at 0x18b560f0>"
      ]
     },
     "metadata": {},
     "output_type": "display_data"
    }
   ],
   "source": [
    "plt.plot(real_price,color = 'green',label = 'Actual Price')\n",
    "plt.plot(pred,color = 'blue',label = 'Predicted')\n",
    "plt.xlabel('Price')\n",
    "plt.ylabel('Time')\n",
    "plt.legend()\n",
    "plt.show()"
   ]
  },
  {
   "cell_type": "code",
   "execution_count": 102,
   "metadata": {},
   "outputs": [
    {
     "data": {
      "text/plain": [
       "70.681606404813849"
      ]
     },
     "execution_count": 102,
     "metadata": {},
     "output_type": "execute_result"
    }
   ],
   "source": [
    "mean_squared_error(real_price,pred)"
   ]
  },
  {
   "cell_type": "code",
   "execution_count": 103,
   "metadata": {
    "collapsed": true
   },
   "outputs": [],
   "source": [
    "## Getting real train stock price \n",
    "realtrain = pd.read_csv('Google_Stock_Price_Train.csv')\n",
    "realtrain = realtrain.iloc[:,1:2].values"
   ]
  },
  {
   "cell_type": "code",
   "execution_count": 104,
   "metadata": {},
   "outputs": [
    {
     "data": {
      "text/plain": [
       "array([[ 327.0027771 ],\n",
       "       [ 332.38247681],\n",
       "       [ 331.09152222],\n",
       "       ..., \n",
       "       [ 787.77935791],\n",
       "       [ 790.56396484],\n",
       "       [ 780.99414062]], dtype=float32)"
      ]
     },
     "execution_count": 104,
     "metadata": {},
     "output_type": "execute_result"
    }
   ],
   "source": [
    "predtrain = reg.predict(x_train)\n",
    "predtrain = sc.inverse_transform(predtrain)\n",
    "predtrain"
   ]
  },
  {
   "cell_type": "code",
   "execution_count": 105,
   "metadata": {},
   "outputs": [
    {
     "data": {
      "image/png": "[encoded data removed]",
      "text/plain": [
       "<matplotlib.figure.Figure at 0x18ec83c8>"
      ]
     },
     "metadata": {},
     "output_type": "display_data"
    }
   ],
   "source": [
    "plt.plot(realtrain,color = 'red',label = 'Actual Price')\n",
    "plt.plot(predtrain,color = 'black',label = 'Predicted')\n",
    "plt.xlabel('Price')\n",
    "plt.ylabel('Time')\n",
    "plt.legend()\n",
    "plt.show()"
   ]
  },
  {
   "cell_type": "code",
   "execution_count": 106,
   "metadata": {},
   "outputs": [
    {
     "data": {
      "text/plain": [
       "7.1794822360920829"
      ]
     },
     "execution_count": 106,
     "metadata": {},
     "output_type": "execute_result"
    }
   ],
   "source": [
    "mean_squared_error(realtrain[0:-1],predtrain)"
   ]
  }
 ],
 "metadata": {
  "kernelspec": {
   "display_name": "Python 3",
   "language": "python",
   "name": "python3"
  },
  "language_info": {
   "codemirror_mode": {
    "name": "ipython",
    "version": 3
   },
   "file_extension": ".py",
   "mimetype": "text/x-python",
   "name": "python",
   "nbconvert_exporter": "python",
   "pygments_lexer": "ipython3",
   "version": "3.6.0"
  }
 },
 "nbformat": 4,
 "nbformat_minor": 2
}
